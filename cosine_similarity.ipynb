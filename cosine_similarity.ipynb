{
  "nbformat": 4,
  "nbformat_minor": 0,
  "metadata": {
    "colab": {
      "name": "cosine_similarity.ipynb",
      "provenance": [],
      "mount_file_id": "1WfXPxiTAoj9nlZXRYzhyALPGyhyPOp6l",
      "authorship_tag": "ABX9TyM/B87Zl0M+NfqAq31NMoST",
      "include_colab_link": true
    },
    "kernelspec": {
      "name": "python3",
      "display_name": "Python 3"
    }
  },
  "cells": [
    {
      "cell_type": "markdown",
      "metadata": {
        "id": "view-in-github",
        "colab_type": "text"
      },
      "source": [
        "<a href=\"https://colab.research.google.com/github/SAIKARTHIGEYAN1512/SNLP/blob/master/cosine_similarity.ipynb\" target=\"_parent\"><img src=\"https://colab.research.google.com/assets/colab-badge.svg\" alt=\"Open In Colab\"/></a>"
      ]
    },
    {
      "cell_type": "code",
      "metadata": {
        "id": "aNqISPVhs4ax",
        "colab_type": "code",
        "colab": {
          "base_uri": "https://localhost:8080/",
          "height": 34
        },
        "outputId": "d5935e81-7c48-4a68-8d93-6ca87e6d2ac2"
      },
      "source": [
        "import math\n",
        "import re\n",
        "from collections import Counter\n",
        "\n",
        "WORD = re.compile(r'\\w+')\n",
        "\n",
        "def textToVector(text):\n",
        "    words = WORD.findall(text)\n",
        "\n",
        "    return Counter(words)\n",
        "\n",
        "\n",
        "def cosinesimilarity(vector1, vector2):\n",
        "   \n",
        "    intersection = set(vector1.keys()) & set(vector2.keys()) \n",
        "    numerator = sum([vector1[x] * vector2[x] for x in intersection])\n",
        "\n",
        "    sum1 = sum([vector1[x] ** 2 for x in vector1.keys()])\n",
        "    sum2 = sum([vector2[x] ** 2 for x in vector2.keys()])\n",
        "    denominator = math.sqrt(sum1) * math.sqrt(sum2)\n",
        "\n",
        "    if not denominator:\n",
        "        return 0.0\n",
        "    else:\n",
        "        return float(numerator) / denominator\n",
        "\n",
        "\n",
        "def readFile(fileName):\n",
        "    return open(\"\" + fileName, 'r').read()\n",
        "\n",
        "\n",
        "text1 = readFile(\"/content/drive/My Drive/SNLP/nowIsTheTime.txt\")\n",
        "text2 = readFile(\"/content/drive/My Drive/SNLP/quickBrownFox.txt\")\n",
        "\n",
        "vector1 = textToVector(text1)\n",
        "vector2 = textToVector(text2)\n",
        "\n",
        "cosine = cosinesimilarity(vector1, vector2)\n",
        "\n",
        "\n",
        "print(\"cosine similarity:\\t\", cosine)"
      ],
      "execution_count": 8,
      "outputs": [
        {
          "output_type": "stream",
          "text": [
            "cosine similarity:\t 0.20412414523193154\n"
          ],
          "name": "stdout"
        }
      ]
    }
  ]
}