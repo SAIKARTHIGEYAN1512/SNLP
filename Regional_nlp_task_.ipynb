{
  "nbformat": 4,
  "nbformat_minor": 0,
  "metadata": {
    "colab": {
      "name": "regional nlp task .ipynb",
      "provenance": [],
      "authorship_tag": "ABX9TyNNs18cI+7Ifxbf4d+whqls",
      "include_colab_link": true
    },
    "kernelspec": {
      "name": "python3",
      "display_name": "Python 3"
    }
  },
  "cells": [
    {
      "cell_type": "markdown",
      "metadata": {
        "id": "view-in-github",
        "colab_type": "text"
      },
      "source": [
        "<a href=\"https://colab.research.google.com/github/SAIKARTHIGEYAN1512/SNLP/blob/master/Regional_nlp_task_.ipynb\" target=\"_parent\"><img src=\"https://colab.research.google.com/assets/colab-badge.svg\" alt=\"Open In Colab\"/></a>"
      ]
    },
    {
      "cell_type": "markdown",
      "metadata": {
        "id": "2oJafntBTCQb",
        "colab_type": "text"
      },
      "source": [
        "#Functions on regional Language data "
      ]
    },
    {
      "cell_type": "code",
      "metadata": {
        "id": "G29ZHI69n9Wh",
        "colab_type": "code",
        "colab": {}
      },
      "source": [
        "import sys\n",
        "from indicnlp import common\n",
        "\n",
        "# The path to the local git repo for Indic NLP library\n",
        "INDIC_NLP_LIB_HOME=r\"indic_nlp_library\"\n",
        "\n",
        "# The path to the local git repo for Indic NLP Resources\n",
        "INDIC_NLP_RESOURCES=r\"indic_nlp_resources\"\n",
        "\n",
        "# Add library to Python path\n",
        "sys.path.append(r'{}\\src'.format(INDIC_NLP_LIB_HOME))\n",
        "\n",
        "# Set environment variable for resources folder\n",
        "common.set_resources_path(INDIC_NLP_RESOURCES)"
      ],
      "execution_count": 52,
      "outputs": []
    },
    {
      "cell_type": "code",
      "metadata": {
        "id": "33T9WlF8rL29",
        "colab_type": "code",
        "colab": {}
      },
      "source": [
        "input_text=\"\"\"நீரானது ஆவியாதல், நீராவிப்போக்கு(ட்ரான்ஸ்பிரேஷன்), ஆவிஊட்டளவு (இவாப்போட்ரான்ஸ்பிரேஷன்), குளிர்ந்து சுருங்கி நீர்க் கோர்வைகளாதல்(பிரெசிபிடேஷன்) மற்றும் தல ஓட்டம் (ரன் ஆஃப்)எனும் நிலைகளின் தொடர் சுழற்சிக்குப் பின் பெரும்பாலும் கடலை அடைகிறது. நிலத்திற்கு நீராவியேந்திச் செல்லும் காற்றின் அளவு கடலினுட் செல்லும் நீரின் தள ஓட்டத்தை ஒத்ததாய் இருக்கிறது. நிலத்திற்கு மேலே நீராவியாதலும், நீராவிப்போக்கும், குளிர்ந்து சுருங்குவதால் நீர்க் கோர்வைகள் உருவாவதற்கு வழிவகுக்கின்றன.\"\"\""
      ],
      "execution_count": 98,
      "outputs": []
    },
    {
      "cell_type": "code",
      "metadata": {
        "id": "EzCgDy9FoDCu",
        "colab_type": "code",
        "colab": {
          "base_uri": "https://localhost:8080/",
          "height": 87
        },
        "outputId": "e9924890-f1a9-4cc0-e7b3-8f8a27247f2b"
      },
      "source": [
        "#task 1 splitting setences\n",
        "from indicnlp.tokenize import sentence_tokenize\n",
        "sentences=sentence_tokenize.sentence_split(input_text, lang='ta')\n",
        "for t in sentences:\n",
        "    print(t)"
      ],
      "execution_count": 54,
      "outputs": [
        {
          "output_type": "stream",
          "text": [
            "நீரானது ஆவியாதல், நீராவிப்போக்கு(ட்ரான்ஸ்பிரேஷன்), ஆவிஊட்டளவு (இவாப்போட்ரான்ஸ்பிரேஷன்), குளிர்ந்து சுருங்கி நீர்க் கோர்வைகளாதல்(பிரெசிபிடேஷன்) மற்றும் தல ஓட்டம் (ரன் ஆஃப்)எனும் நிலைகளின் தொடர் சுழற்சிக்குப் பின் பெரும்பாலும் கடலை அடைகிறது.\n",
            "நிலத்திற்கு நீராவியேந்திச் செல்லும் காற்றின் அளவு கடலினுட் செல்லும் நீரின் தள ஓட்டத்தை ஒத்ததாய் இருக்கிறது.\n",
            "நிலத்திற்கு மேலே நீராவியாதலும், நீராவிப்போக்கும், குளிர்ந்து சுருங்குவதால் நீர்க் கோர்வைகள் உருவாவதற்கு வழிவகுக்கின்றன.\n"
          ],
          "name": "stdout"
        }
      ]
    },
    {
      "cell_type": "code",
      "metadata": {
        "id": "AbsE4SggqrNY",
        "colab_type": "code",
        "colab": {
          "base_uri": "https://localhost:8080/",
          "height": 54
        },
        "outputId": "0ed24532-c9b1-442f-e8df-4e279a29065b"
      },
      "source": [
        "#task 2 sentence tanslation\n",
        "from indicnlp.transliterate.unicode_transliterate import UnicodeIndicTransliterator\n",
        "# Transliterate from tamil to hindi\n",
        "print(UnicodeIndicTransliterator.transliterate(input_text,\"ta\",\"hi\"))"
      ],
      "execution_count": 55,
      "outputs": [
        {
          "output_type": "stream",
          "text": [
            "नीराऩतु आवियातल्, नीराविप्पोक्कु(ट्राऩ्स्पिरेषऩ्), आविऊट्टळवु (इवाप्पोट्राऩ्स्पिरेषऩ्), कुळिर्न्तु चुरुङ्कि नीर्क् कोर्वैकळातल्(पिरॆचिपिटेषऩ्) मऱ्ऱुम् तल ओट्टम् (रऩ् आःप्)ऎऩुम् निलैकळिऩ् तॊटर् चुऴऱ्चिक्कुप् पिऩ् पॆरुम्पालुम् कटलै अटैकिऱतु. निलत्तिऱ्कु नीरावियेन्तिच् चॆल्लुम् काऱ्ऱिऩ् अळवु कटलिऩुट् चॆल्लुम् नीरिऩ् तळ ओट्टत्तै ऒत्तताय् इरुक्किऱतु. निलत्तिऱ्कु मेले नीरावियातलुम्, नीराविप्पोक्कुम्, कुळिर्न्तु चुरुङ्कुवताल् नीर्क् कोर्वैकळ् उरुवावतऱ्कु वऴिवकुक्किऩ्ऱऩ.\n"
          ],
          "name": "stdout"
        }
      ]
    },
    {
      "cell_type": "code",
      "metadata": {
        "id": "lLFlYV22QpCk",
        "colab_type": "code",
        "colab": {
          "base_uri": "https://localhost:8080/",
          "height": 34
        },
        "outputId": "2eff8459-37b6-4a40-b16c-57f26154dde8"
      },
      "source": [
        "from indicnlp.transliterate.unicode_transliterate import UnicodeIndicTransliterator\n",
        "input_text1='राजस्थान'\n",
        "print(UnicodeIndicTransliterator.transliterate(input_text1,\"hi\",\"ta\"))\n"
      ],
      "execution_count": 103,
      "outputs": [
        {
          "output_type": "stream",
          "text": [
            "ராஜஸ்தாந\n"
          ],
          "name": "stdout"
        }
      ]
    },
    {
      "cell_type": "code",
      "metadata": {
        "id": "dQS8JtsevavI",
        "colab_type": "code",
        "colab": {
          "base_uri": "https://localhost:8080/",
          "height": 84
        },
        "outputId": "81aed33b-1547-472e-a4f1-b4d1d6d6151e"
      },
      "source": [
        "from indicnlp.langinfo import *\n",
        "c='ஆ'\n",
        "lang='ta'\n",
        "print('Is vowel?:  {}'.format(is_vowel(c,lang)))\n",
        "print('Is consonant?:  {}'.format(is_consonant(c,lang)))\n",
        "print('Is velar?:  {}'.format(is_velar(c,lang)))\n",
        "print('Is palatal?:  {}'.format(is_palatal(c,lang)))\n"
      ],
      "execution_count": 61,
      "outputs": [
        {
          "output_type": "stream",
          "text": [
            "Is vowel?:  True\n",
            "Is consonant?:  False\n",
            "Is velar?:  False\n",
            "Is palatal?:  False\n"
          ],
          "name": "stdout"
        }
      ]
    },
    {
      "cell_type": "code",
      "metadata": {
        "id": "Gaon8trOD_sp",
        "colab_type": "code",
        "colab": {}
      },
      "source": [
        "#task 3 word segmentation\n",
        "from indicnlp.morph import unsupervised_morph \n",
        "from indicnlp import common\n",
        "analyzer=unsupervised_morph.UnsupervisedMorphAnalyzer('ta')"
      ],
      "execution_count": 57,
      "outputs": []
    },
    {
      "cell_type": "code",
      "metadata": {
        "id": "JNvnx3itEHr5",
        "colab_type": "code",
        "colab": {
          "base_uri": "https://localhost:8080/",
          "height": 1000
        },
        "outputId": "730f53d7-47a2-4618-cac7-b13488938018"
      },
      "source": [
        "analyzes_tokens=analyzer.morph_analyze_document(input_text.split(' '))\n",
        "for w in analyzes_tokens: \n",
        "    print(w)"
      ],
      "execution_count": 58,
      "outputs": [
        {
          "output_type": "stream",
          "text": [
            "நீரான\n",
            "து\n",
            "ஆவியாதல்,\n",
            "நீராவிப்போக்கு(ட்ரான்ஸ்பிரேஷன்),\n",
            "ஆவி\n",
            "ஊட்ட\n",
            "ளவு\n",
            "(இவாப்போட்ரான்ஸ்பிரேஷன்),\n",
            "குளிர்ந்து\n",
            "சுருங்கி\n",
            "நீர்க்\n",
            "கோர்வைகளாதல்(பிரெசிபிடேஷன்)\n",
            "மற்றும்\n",
            "தல\n",
            "ஓட்ட\n",
            "ம்\n",
            "(ரன்\n",
            "ஆஃப்)எனும்\n",
            "நிலை\n",
            "களின்\n",
            "தொடர்\n",
            "சுழற்சி\n",
            "க்குப்\n",
            "பின்\n",
            "பெரும்பாலும்\n",
            "கடலை\n",
            "அடைகிறது.\n",
            "நில\n",
            "த்திற்கு\n",
            "நீராவி\n",
            "யே\n",
            "ந்தி\n",
            "ச்\n",
            "செல்லும்\n",
            "காற்றின்\n",
            "அளவு\n",
            "கடலி\n",
            "னு\n",
            "ட்\n",
            "செல்லும்\n",
            "நீரின்\n",
            "தள\n",
            "ஓட்ட\n",
            "த்தை\n",
            "ஒத்த\n",
            "தாய்\n",
            "இருக்கிறது.\n",
            "நில\n",
            "த்திற்கு\n",
            "மேலே\n",
            "நீராவியாதலும்,\n",
            "நீராவிப்போக்கும்,\n",
            "குளிர்ந்து\n",
            "சுருங்க\n",
            "ுவதால்\n",
            "நீர்க்\n",
            "கோர்வை\n",
            "கள்\n",
            "உருவாவ\n",
            "தற்கு\n",
            "வழிவகுக்கின்றன.\n"
          ],
          "name": "stdout"
        }
      ]
    },
    {
      "cell_type": "code",
      "metadata": {
        "id": "hYHB1kWTM4XZ",
        "colab_type": "code",
        "colab": {
          "base_uri": "https://localhost:8080/",
          "height": 706
        },
        "outputId": "3fbc70c6-834e-41a8-d614-62ec6d671345"
      },
      "source": [
        "# task 4 Indicization (ITRANS to Indic Script)from indicnlp.transliterate.unicode_transliterate import ItransTransliterator\n",
        "input_text='அரசன், அரசி, அரசு, அரசோச்சுதல், அரசாட்சி'\n",
        "lang='ta'\n",
        "x=ItransTransliterator.from_itrans(input_text,lang)\n",
        "print(x)\n",
        "for y in x:\n",
        "    print('{:x}'.format(ord(y)))"
      ],
      "execution_count": 97,
      "outputs": [
        {
          "output_type": "stream",
          "text": [
            "அரசன், அரசி, அரசு, அரசோச்சுதல், அரசாட்சி\n",
            "b85\n",
            "bb0\n",
            "b9a\n",
            "ba9\n",
            "bcd\n",
            "2c\n",
            "20\n",
            "b85\n",
            "bb0\n",
            "b9a\n",
            "bbf\n",
            "2c\n",
            "20\n",
            "b85\n",
            "bb0\n",
            "b9a\n",
            "bc1\n",
            "2c\n",
            "20\n",
            "b85\n",
            "bb0\n",
            "b9a\n",
            "bcb\n",
            "b9a\n",
            "bcd\n",
            "b9a\n",
            "bc1\n",
            "ba4\n",
            "bb2\n",
            "bcd\n",
            "2c\n",
            "20\n",
            "b85\n",
            "bb0\n",
            "b9a\n",
            "bbe\n",
            "b9f\n",
            "bcd\n",
            "b9a\n",
            "bbf\n"
          ],
          "name": "stdout"
        }
      ]
    },
    {
      "cell_type": "code",
      "metadata": {
        "id": "yvGmFDl0No7g",
        "colab_type": "code",
        "colab": {
          "base_uri": "https://localhost:8080/",
          "height": 34
        },
        "outputId": "e8f6751a-5ffc-4fcf-d4d8-2a28ebf04b51"
      },
      "source": [
        "# task 5 Romanization\n",
        "from indicnlp.transliterate.unicode_transliterate import ItransTransliterator\n",
        "input_text='ஆசிரியர்கள்'\n",
        "lang='ta'\n",
        "print(ItransTransliterator.to_itrans(input_text,lang))"
      ],
      "execution_count": 105,
      "outputs": [
        {
          "output_type": "stream",
          "text": [
            "ஆிியக\n"
          ],
          "name": "stdout"
        }
      ]
    }
  ]
}