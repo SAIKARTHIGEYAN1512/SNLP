{
  "nbformat": 4,
  "nbformat_minor": 0,
  "metadata": {
    "colab": {
      "name": " Chunking.ipynb",
      "provenance": [],
      "mount_file_id": "1TuHWC4ZVMURlW927_m7a0tRwLa5ipNdo",
      "authorship_tag": "ABX9TyOhCBq6Ocnu345kQ7wQCe73",
      "include_colab_link": true
    },
    "kernelspec": {
      "name": "python3",
      "display_name": "Python 3"
    }
  },
  "cells": [
    {
      "cell_type": "markdown",
      "metadata": {
        "id": "view-in-github",
        "colab_type": "text"
      },
      "source": [
        "<a href=\"https://colab.research.google.com/github/SAIKARTHIGEYAN1512/SNLP/blob/master/Chunking.ipynb\" target=\"_parent\"><img src=\"https://colab.research.google.com/assets/colab-badge.svg\" alt=\"Open In Colab\"/></a>"
      ]
    },
    {
      "cell_type": "code",
      "metadata": {
        "id": "yy_qHZraPG9_",
        "colab_type": "code",
        "colab": {
          "base_uri": "https://localhost:8080/",
          "height": 235
        },
        "outputId": "9f0a4a80-facf-46bc-db67-2d4f380d4f30"
      },
      "source": [
        "import nltk\n",
        "from nltk.corpus import state_union\n",
        "from nltk.tokenize import PunktSentenceTokenizer\n",
        "\n",
        "train_text = state_union.raw(\"1945-Truman.txt\")\n",
        "sample_text = state_union.raw(\"1946-Truman.txt\")\n",
        "\n",
        "custom_sent_tokenizer = PunktSentenceTokenizer(train_text)\n",
        "\n",
        "tokenized = custom_sent_tokenizer.tokenize(sample_text)\n",
        "\n",
        "def process_content():\n",
        "    try:\n",
        "        for i in tokenized:\n",
        "            words = nltk.word_tokenize(i)\n",
        "            tagged = nltk.pos_tag(words)\n",
        "            chunkGram = r\"\"\"Chunk: {<RB.?>*<VB.?>*<NNP>+<NN>?}\"\"\"\n",
        "            chunkParser = nltk.RegexpParser(chunkGram)\n",
        "            chunked = chunkParser.parse(tagged)\n",
        "            \n",
        "            print(chunked)\n",
        "            for subtree in chunked.subtrees(filter=lambda t: t.label() == 'Chunk'):\n",
        "                print(subtree)\n",
        "\n",
        "            chunked.draw()\n",
        "\n",
        "    except Exception as e:\n",
        "        print(str(e))\n",
        "\n",
        "process_content()"
      ],
      "execution_count": null,
      "outputs": [
        {
          "output_type": "stream",
          "text": [
            "(S\n",
            "  (Chunk PRESIDENT/NNP HARRY/NNP S./NNP TRUMAN/NNP)\n",
            "  'S/POS\n",
            "  MESSAGE/NN\n",
            "  (Chunk TO/VBD THE/NNP CONGRESS/NNP ON/NNP THE/NNP STATE/NNP)\n",
            "  OF/IN\n",
            "  (Chunk THE/NNP UNION/NNP AND/NNP ON/NNP THE/NNP BUDGET/NNP FOR/NNP)\n",
            "  1946/CD\n",
            "  ./.)\n",
            "(Chunk PRESIDENT/NNP HARRY/NNP S./NNP TRUMAN/NNP)\n",
            "(Chunk TO/VBD THE/NNP CONGRESS/NNP ON/NNP THE/NNP STATE/NNP)\n",
            "(Chunk THE/NNP UNION/NNP AND/NNP ON/NNP THE/NNP BUDGET/NNP FOR/NNP)\n",
            "no display name and no $DISPLAY environment variable\n"
          ],
          "name": "stdout"
        }
      ]
    },
    {
      "cell_type": "code",
      "metadata": {
        "id": "l4B1VFc5XDwW",
        "colab_type": "code",
        "colab": {}
      },
      "source": [
        "import nltk"
      ],
      "execution_count": null,
      "outputs": []
    },
    {
      "cell_type": "code",
      "metadata": {
        "id": "rra5Wds2Xfl6",
        "colab_type": "code",
        "colab": {
          "base_uri": "https://localhost:8080/",
          "height": 101
        },
        "outputId": "1449fa0e-8a6f-4583-cce0-c709fc70077d"
      },
      "source": [
        "semtence=[(\"the\",\"DT\"),(\"little\",\"JJ\"),(\"yellow\",\"JJ\"),(\"dog\",\"NN\"),(\"barked\",\"VBD\"),(\"at\",\"IN\"),(\"the\",\"DT\"),(\"white\",\"JJ\"),(\"dog\",\"NN\")]\n",
        "grammar=\"NP:{<DT>?<JJ>*<NN>}\"\n",
        "\n",
        "cp=nltk.RegexpParser(grammar)\n",
        "\n",
        "result=cp.parse(semtence)\n",
        "print(result)"
      ],
      "execution_count": null,
      "outputs": [
        {
          "output_type": "stream",
          "text": [
            "(S\n",
            "  (NP the/DT little/JJ yellow/JJ dog/NN)\n",
            "  barked/VBD\n",
            "  at/IN\n",
            "  (NP the/DT white/JJ dog/NN))\n"
          ],
          "name": "stdout"
        }
      ]
    },
    {
      "cell_type": "code",
      "metadata": {
        "id": "EVLx6CeMXpZe",
        "colab_type": "code",
        "colab": {
          "base_uri": "https://localhost:8080/",
          "height": 756
        },
        "outputId": "b156e04a-0a65-4169-9145-a4884af05801"
      },
      "source": [
        "text=\"the little yellow dog barked at the white cat \"\n",
        "result=cp.parse(nltk.pos_tag(text))\n",
        "print(result)"
      ],
      "execution_count": null,
      "outputs": [
        {
          "output_type": "stream",
          "text": [
            "(S\n",
            "  (NP t/NN)\n",
            "  (NP h/NN)\n",
            "  (NP e/NN)\n",
            "   /NNP\n",
            "  (NP l/NN)\n",
            "  (NP i/NN)\n",
            "  t/VBP\n",
            "  (NP t/NN)\n",
            "  (NP l/NN)\n",
            "  (NP e/NN)\n",
            "   /NNP\n",
            "  y/NNP\n",
            "  (NP e/NN)\n",
            "  (NP l/NN)\n",
            "  (NP l/NN)\n",
            "  (NP o/NN)\n",
            "  (NP w/NN)\n",
            "   /NNP\n",
            "  (NP d/NN)\n",
            "  (NP o/NN)\n",
            "  (NP g/NN)\n",
            "   /NNP\n",
            "  b/VBZ\n",
            "  (NP a/DT r/NN)\n",
            "  (NP k/NN)\n",
            "  e/FW\n",
            "  (NP d/NN)\n",
            "   /VBZ\n",
            "  (NP a/DT t/NN)\n",
            "   /NNP\n",
            "  (NP t/NN)\n",
            "  (NP h/NN)\n",
            "  (NP e/NN)\n",
            "   /NNP\n",
            "  (NP w/NN)\n",
            "  (NP h/NN)\n",
            "  i/JJ\n",
            "  t/VBP\n",
            "  e/JJ\n",
            "   /NNP\n",
            "  c/VBZ\n",
            "  (NP a/DT t/NN)\n",
            "  (NP  /NN))\n"
          ],
          "name": "stdout"
        }
      ]
    }
  ]
}