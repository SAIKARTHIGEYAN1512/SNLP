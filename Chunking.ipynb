{
  "nbformat": 4,
  "nbformat_minor": 0,
  "metadata": {
    "colab": {
      "name": "Chunking.ipynb",
      "provenance": [],
      "mount_file_id": "1TuHWC4ZVMURlW927_m7a0tRwLa5ipNdo",
      "authorship_tag": "ABX9TyPX1PWgqWWOn/NdbHoQRRKl",
      "include_colab_link": true
    },
    "kernelspec": {
      "name": "python3",
      "display_name": "Python 3"
    }
  },
  "cells": [
    {
      "cell_type": "markdown",
      "metadata": {
        "id": "view-in-github",
        "colab_type": "text"
      },
      "source": [
        "<a href=\"https://colab.research.google.com/github/SAIKARTHIGEYAN1512/SNLP/blob/master/Chunking.ipynb\" target=\"_parent\"><img src=\"https://colab.research.google.com/assets/colab-badge.svg\" alt=\"Open In Colab\"/></a>"
      ]
    },
    {
      "cell_type": "code",
      "metadata": {
        "id": "yy_qHZraPG9_",
        "colab_type": "code",
        "colab": {
          "base_uri": "https://localhost:8080/",
          "height": 235
        },
        "outputId": "9f0a4a80-facf-46bc-db67-2d4f380d4f30"
      },
      "source": [
        "import nltk\n",
        "from nltk.corpus import state_union\n",
        "from nltk.tokenize import PunktSentenceTokenizer\n",
        "\n",
        "train_text = state_union.raw(\"1945-Truman.txt\")\n",
        "sample_text = state_union.raw(\"1946-Truman.txt\")\n",
        "\n",
        "custom_sent_tokenizer = PunktSentenceTokenizer(train_text)\n",
        "\n",
        "tokenized = custom_sent_tokenizer.tokenize(sample_text)\n",
        "\n",
        "def process_content():\n",
        "    try:\n",
        "        for i in tokenized:\n",
        "            words = nltk.word_tokenize(i)\n",
        "            tagged = nltk.pos_tag(words)\n",
        "            chunkGram = r\"\"\"Chunk: {<RB.?>*<VB.?>*<NNP>+<NN>?}\"\"\"\n",
        "            chunkParser = nltk.RegexpParser(chunkGram)\n",
        "            chunked = chunkParser.parse(tagged)\n",
        "            \n",
        "            print(chunked)\n",
        "            for subtree in chunked.subtrees(filter=lambda t: t.label() == 'Chunk'):\n",
        "                print(subtree)\n",
        "\n",
        "            chunked.draw()\n",
        "\n",
        "    except Exception as e:\n",
        "        print(str(e))\n",
        "\n",
        "process_content()"
      ],
      "execution_count": 12,
      "outputs": [
        {
          "output_type": "stream",
          "text": [
            "(S\n",
            "  (Chunk PRESIDENT/NNP HARRY/NNP S./NNP TRUMAN/NNP)\n",
            "  'S/POS\n",
            "  MESSAGE/NN\n",
            "  (Chunk TO/VBD THE/NNP CONGRESS/NNP ON/NNP THE/NNP STATE/NNP)\n",
            "  OF/IN\n",
            "  (Chunk THE/NNP UNION/NNP AND/NNP ON/NNP THE/NNP BUDGET/NNP FOR/NNP)\n",
            "  1946/CD\n",
            "  ./.)\n",
            "(Chunk PRESIDENT/NNP HARRY/NNP S./NNP TRUMAN/NNP)\n",
            "(Chunk TO/VBD THE/NNP CONGRESS/NNP ON/NNP THE/NNP STATE/NNP)\n",
            "(Chunk THE/NNP UNION/NNP AND/NNP ON/NNP THE/NNP BUDGET/NNP FOR/NNP)\n",
            "no display name and no $DISPLAY environment variable\n"
          ],
          "name": "stdout"
        }
      ]
    }
  ]
}